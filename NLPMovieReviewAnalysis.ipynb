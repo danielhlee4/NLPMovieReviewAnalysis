{
 "cells": [
  {
   "cell_type": "code",
   "execution_count": null,
   "metadata": {
    "scrolled": true
   },
   "outputs": [],
   "source": [
    "import pandas as pd\n",
    "import numpy as np\n",
    "import seaborn as sns\n",
    "import matplotlib.pyplot as plt\n",
    "import plotly.express as px\n",
    "\n",
    "from bs4 import BeautifulSoup\n",
    "\n",
    "import re\n",
    "\n",
    "import nltk\n",
    "from nltk.tokenize import word_tokenize\n",
    "from nltk.corpus import stopwords\n",
    "from nltk.stem import PorterStemmer\n",
    "from sklearn.feature_extraction.text import CountVectorizer, TfidfVectorizer\n",
    "import string\n",
    "\n",
    "from sklearn.linear_model import LogisticRegression\n",
    "from sklearn.neighbors import KNeighborsClassifier\n",
    "from sklearn.tree import DecisionTreeClassifier\n",
    "from sklearn.ensemble import RandomForestClassifier\n",
    "\n",
    "from sklearn.model_selection import train_test_split\n",
    "\n",
    "from sklearn.metrics import accuracy_score\n",
    "from sklearn.metrics import recall_score, precision_score, f1_score\n",
    "from sklearn.metrics import confusion_matrix\n",
    "from sklearn.metrics import plot_confusion_matrix\n",
    "from sklearn.metrics import roc_auc_score, plot_roc_curve\n",
    "\n",
    "from sklearn.inspection import permutation_importance"
   ]
  },
  {
   "cell_type": "code",
   "execution_count": null,
   "metadata": {},
   "outputs": [],
   "source": [
    "df = pd.read_csv('data/IMDB_Dataset.csv')"
   ]
  },
  {
   "cell_type": "code",
   "execution_count": null,
   "metadata": {},
   "outputs": [],
   "source": [
    "df.head()"
   ]
  },
  {
   "cell_type": "code",
   "execution_count": null,
   "metadata": {},
   "outputs": [],
   "source": [
    "df.describe()"
   ]
  },
  {
   "cell_type": "code",
   "execution_count": null,
   "metadata": {},
   "outputs": [],
   "source": [
    "df['sentiment'].value_counts()"
   ]
  },
  {
   "cell_type": "markdown",
   "metadata": {},
   "source": [
    "Balanced dataset"
   ]
  },
  {
   "cell_type": "code",
   "execution_count": null,
   "metadata": {},
   "outputs": [],
   "source": [
    "# Check for null values\n",
    "df.isna().sum()"
   ]
  },
  {
   "cell_type": "code",
   "execution_count": null,
   "metadata": {},
   "outputs": [],
   "source": [
    "df.loc[0][0]"
   ]
  },
  {
   "cell_type": "code",
   "execution_count": null,
   "metadata": {},
   "outputs": [],
   "source": [
    "df.loc[1][0]"
   ]
  },
  {
   "cell_type": "code",
   "execution_count": null,
   "metadata": {},
   "outputs": [],
   "source": [
    "review = df.loc[0][0]"
   ]
  },
  {
   "cell_type": "code",
   "execution_count": null,
   "metadata": {},
   "outputs": [],
   "source": [
    "# Strip html text\n",
    "soup = BeautifulSoup(review, \"lxml\")\n",
    "data = soup.get_text()\n",
    "data"
   ]
  },
  {
   "cell_type": "code",
   "execution_count": null,
   "metadata": {
    "scrolled": true
   },
   "outputs": [],
   "source": [
    "# Lower case all text\n",
    "data = data.lower()\n",
    "data"
   ]
  },
  {
   "cell_type": "code",
   "execution_count": null,
   "metadata": {
    "scrolled": true
   },
   "outputs": [],
   "source": [
    "# Remove punctuation\n",
    "punctuation = string.punctuation.replace('.', '')\n",
    "data = data.translate(str.maketrans('', '', punctuation))"
   ]
  },
  {
   "cell_type": "code",
   "execution_count": null,
   "metadata": {},
   "outputs": [],
   "source": [
    "pattern = re.compile(r'\\s+')\n",
    "data = re.sub(pattern, ' ', data.replace('.', ' '))"
   ]
  },
  {
   "cell_type": "code",
   "execution_count": null,
   "metadata": {},
   "outputs": [],
   "source": [
    "data"
   ]
  },
  {
   "cell_type": "code",
   "execution_count": null,
   "metadata": {},
   "outputs": [],
   "source": [
    "# Tokenize\n",
    "data = word_tokenize(data)"
   ]
  },
  {
   "cell_type": "code",
   "execution_count": null,
   "metadata": {},
   "outputs": [],
   "source": [
    "# Get list of nltk's stopwords\n",
    "stopwords_list = stopwords.words('english')"
   ]
  },
  {
   "cell_type": "code",
   "execution_count": null,
   "metadata": {},
   "outputs": [],
   "source": [
    "# Remove stop words\n",
    "data = [word for word in data if word not in stopwords_list]"
   ]
  },
  {
   "cell_type": "code",
   "execution_count": null,
   "metadata": {},
   "outputs": [],
   "source": [
    "data[:5]"
   ]
  },
  {
   "cell_type": "code",
   "execution_count": null,
   "metadata": {},
   "outputs": [],
   "source": [
    "# Initialize a PortStemmer object\n",
    "stemmer = PorterStemmer()"
   ]
  },
  {
   "cell_type": "code",
   "execution_count": null,
   "metadata": {},
   "outputs": [],
   "source": [
    "# Convert the tokens into their stem\n",
    "data = [stemmer.stem(token) for token in data]"
   ]
  },
  {
   "cell_type": "code",
   "execution_count": null,
   "metadata": {
    "scrolled": false
   },
   "outputs": [],
   "source": [
    "data[:5]"
   ]
  },
  {
   "cell_type": "code",
   "execution_count": null,
   "metadata": {},
   "outputs": [],
   "source": [
    "def text_preprocessor(review):\n",
    "    # Strip html text\n",
    "    soup = BeautifulSoup(review, \"lxml\")\n",
    "    data = soup.get_text()\n",
    "    # Lower case all text\n",
    "    data = data.lower()\n",
    "    # Remove edge cases with multiple periods\n",
    "    pattern = re.compile(r'\\s+')\n",
    "    data = re.sub(pattern, ' ', data.replace('.', ' '))\n",
    "    # Remove punctuation and other special characters\n",
    "    pattern = r'[^a-zA-Z\\s]'\n",
    "    data = re.sub(pattern, '', data)\n",
    "    # Tokenize\n",
    "    data = word_tokenize(data)\n",
    "    # Get list of nltk's stopwords\n",
    "    stopwords_list = stopwords.words('english')\n",
    "    # Remove stop words\n",
    "    data = [word for word in data if word not in stopwords_list]\n",
    "    # Initialize a PortStemmer object\n",
    "    stemmer = PorterStemmer()\n",
    "    # Convert the tokens into their stem\n",
    "    data = [stemmer.stem(token) for token in data]\n",
    "    # Convert the list of words back into\n",
    "    # a string by joining each word with a space\n",
    "    data = ' '.join(data)\n",
    "    # Remove double spaces\n",
    "    data = data.replace('  ', ' ')\n",
    "    # Remove opening and trailing spaces\n",
    "    data = data.strip()\n",
    "    # Return the cleaned text data\n",
    "    return data"
   ]
  },
  {
   "cell_type": "code",
   "execution_count": null,
   "metadata": {},
   "outputs": [],
   "source": [
    "df.review = df.review.apply(text_preprocessor)"
   ]
  },
  {
   "cell_type": "code",
   "execution_count": null,
   "metadata": {},
   "outputs": [],
   "source": [
    "print(df.review[:3])"
   ]
  },
  {
   "cell_type": "markdown",
   "metadata": {},
   "source": [
    "Number of words per review"
   ]
  },
  {
   "cell_type": "code",
   "execution_count": null,
   "metadata": {},
   "outputs": [],
   "source": [
    "fig, (ax1, ax2) = plt.subplots(1, 2, figsize=(14, 8))\n",
    "length_good_reviews = df[df['sentiment'] == 'positive']['review'].str.split().map(lambda x: len(x))\n",
    "ax1.hist(length_good_reviews, color='blue')\n",
    "ax1.set_title('Positive Reviews')\n",
    "length_bad_reviews = df[df['sentiment'] == 'negative']['review'].str.split().map(lambda x: len(x))\n",
    "ax2.hist(length_bad_reviews, color='green')\n",
    "ax2.set_title('Negative Reviews')\n",
    "fig.suptitle('Words in texts')\n",
    "plt.show()"
   ]
  },
  {
   "cell_type": "markdown",
   "metadata": {},
   "source": [
    "Mean word length per review"
   ]
  },
  {
   "cell_type": "code",
   "execution_count": null,
   "metadata": {},
   "outputs": [],
   "source": [
    "fig, (ax1, ax2) = plt.subplots(1, 2, figsize=(22, 8))\n",
    "pos_word = df[df['sentiment'] == 'positive']['review'].str.split().apply(lambda x: [\n",
    "    len(i) for i in x])\n",
    "sns.distplot(pos_word.map(lambda x: np.mean(x)), ax=ax1, color='blue')\n",
    "ax1.set_title('Positive Reviews')\n",
    "neg_word = df[df['sentiment'] == 'negative']['review'].str.split().apply(lambda x: [\n",
    "    len(i) for i in x])\n",
    "sns.distplot(neg_word.map(lambda x: np.mean(x)), ax=ax2, color='green')\n",
    "ax2.set_title('Negative Reviews')\n",
    "fig.suptitle('Mean word length per review')"
   ]
  },
  {
   "cell_type": "code",
   "execution_count": null,
   "metadata": {},
   "outputs": [],
   "source": [
    "def get_all_words(text):\n",
    "    words = []\n",
    "    for x in text:\n",
    "        for y in x.split():\n",
    "            words.append(y.strip())\n",
    "    return words\n",
    "all_words = get_all_words(df.review)\n",
    "all_words[:10]"
   ]
  },
  {
   "cell_type": "code",
   "execution_count": null,
   "metadata": {},
   "outputs": [],
   "source": [
    "from collections import Counter\n",
    "counter = Counter(all_words)\n",
    "most_common = counter.most_common(10)\n",
    "most_common = dict(most_common)\n",
    "most_common"
   ]
  },
  {
   "cell_type": "markdown",
   "metadata": {},
   "source": [
    "https://www.kaggle.com/madz2000/sentiment-analysis-cleaning-eda-bert-88-acc/notebook"
   ]
  },
  {
   "cell_type": "code",
   "execution_count": null,
   "metadata": {},
   "outputs": [],
   "source": [
    "def get_top_text_ngrams(text, num_words, ngram):\n",
    "    vec = CountVectorizer(ngram_range=(ngram, ngram)).fit(text)\n",
    "    bag_of_words = vec.transform(text)\n",
    "    sum_words = bag_of_words.sum(axis=0)\n",
    "    words_freq = [(word, sum_words[0, idx])\n",
    "                  for word, idx in vec.vocabulary_.items()]\n",
    "    words_freq = sorted(words_freq, key=lambda x: x[1], reverse=True)\n",
    "    return words_freq[:num_words]"
   ]
  },
  {
   "cell_type": "markdown",
   "metadata": {},
   "source": [
    "Unigram Analysis"
   ]
  },
  {
   "cell_type": "code",
   "execution_count": null,
   "metadata": {},
   "outputs": [],
   "source": [
    "most_common_uni = get_top_text_ngrams(df.review, 20, 1)\n",
    "most_common_uni = dict(most_common_uni)\n",
    "temp = pd.DataFrame(columns=[\"Common_words\", 'Count'])\n",
    "temp[\"Common_words\"] = list(most_common_uni.keys())\n",
    "temp[\"Count\"] = list(most_common_uni.values())\n",
    "fig = px.bar(temp, x=\"Count\", y=\"Common_words\", title='Common Words in All Reviews', orientation='h',\n",
    "             width=700, height=700, color='Common_words')\n",
    "fig.show()"
   ]
  },
  {
   "cell_type": "code",
   "execution_count": null,
   "metadata": {},
   "outputs": [],
   "source": [
    "most_common_uni_pos = get_top_text_ngrams(df.review[df.sentiment=='positive'], 20, 1)\n",
    "most_common_uni_pos = dict(most_common_uni_pos)\n",
    "temp = pd.DataFrame(columns=[\"Common_words\", 'Count'])\n",
    "temp[\"Common_words\"] = list(most_common_uni_pos.keys())\n",
    "temp[\"Count\"] = list(most_common_uni_pos.values())\n",
    "fig = px.bar(temp, x=\"Count\", y=\"Common_words\", title='Common Words in Positive Reviews', orientation='h',\n",
    "             width=700, height=700, color='Common_words')\n",
    "fig.show()"
   ]
  },
  {
   "cell_type": "code",
   "execution_count": null,
   "metadata": {},
   "outputs": [],
   "source": [
    "most_common_uni_neg = get_top_text_ngrams(df.review[df.sentiment=='negative'], 20, 1)\n",
    "most_common_uni_neg = dict(most_common_uni_neg)\n",
    "temp = pd.DataFrame(columns=[\"Common_words\", 'Count'])\n",
    "temp[\"Common_words\"] = list(most_common_uni_neg.keys())\n",
    "temp[\"Count\"] = list(most_common_uni_neg.values())\n",
    "fig = px.bar(temp, x=\"Count\", y=\"Common_words\", title='Commmon Words in Negative Reviews', orientation='h',\n",
    "             width=700, height=700, color='Common_words')\n",
    "fig.show()"
   ]
  },
  {
   "cell_type": "markdown",
   "metadata": {},
   "source": [
    "Bigram Analysis"
   ]
  },
  {
   "cell_type": "code",
   "execution_count": null,
   "metadata": {},
   "outputs": [],
   "source": [
    "most_common_bi = get_top_text_ngrams(df.review,20,2)\n",
    "most_common_bi = dict(most_common_bi)\n",
    "temp = pd.DataFrame(columns = [\"Common_words\" , 'Count'])\n",
    "temp[\"Common_words\"] = list(most_common_bi.keys())\n",
    "temp[\"Count\"] = list(most_common_bi.values())\n",
    "fig = px.bar(temp, x=\"Count\", y=\"Common_words\", title='Commmon Bigrams All Reviews', orientation='h', \n",
    "             width=700, height=700,color='Common_words')\n",
    "fig.show()"
   ]
  },
  {
   "cell_type": "code",
   "execution_count": null,
   "metadata": {},
   "outputs": [],
   "source": [
    "most_common_bi_pos = get_top_text_ngrams(df.review[df.sentiment=='positive'],20,2)\n",
    "most_common_bi_pos = dict(most_common_bi_pos)\n",
    "temp = pd.DataFrame(columns = [\"Common_words\" , 'Count'])\n",
    "temp[\"Common_words\"] = list(most_common_bi_pos.keys())\n",
    "temp[\"Count\"] = list(most_common_bi_pos.values())\n",
    "fig = px.bar(temp, x=\"Count\", y=\"Common_words\", title='Commmon Bigrams in Positive Reviews', orientation='h', \n",
    "             width=700, height=700,color='Common_words')\n",
    "fig.show()"
   ]
  },
  {
   "cell_type": "code",
   "execution_count": null,
   "metadata": {},
   "outputs": [],
   "source": [
    "most_common_bi_neg = get_top_text_ngrams(df.review[df.sentiment=='negative'],20,2)\n",
    "most_common_bi_neg = dict(most_common_bi_neg)\n",
    "temp = pd.DataFrame(columns = [\"Common_words\" , 'Count'])\n",
    "temp[\"Common_words\"] = list(most_common_bi_neg.keys())\n",
    "temp[\"Count\"] = list(most_common_bi_neg.values())\n",
    "fig = px.bar(temp, x=\"Count\", y=\"Common_words\", title='Commmon Bigrams in Negative Reviews', orientation='h', \n",
    "             width=700, height=700,color='Common_words')\n",
    "fig.show()"
   ]
  },
  {
   "cell_type": "markdown",
   "metadata": {},
   "source": [
    "Trigram Analysis"
   ]
  },
  {
   "cell_type": "code",
   "execution_count": null,
   "metadata": {},
   "outputs": [],
   "source": [
    "most_common_tri = get_top_text_ngrams(df.review,20,3)\n",
    "most_common_tri = dict(most_common_tri)\n",
    "temp = pd.DataFrame(columns = [\"Common_words\" , 'Count'])\n",
    "temp[\"Common_words\"] = list(most_common_tri.keys())\n",
    "temp[\"Count\"] = list(most_common_tri.values())\n",
    "fig = px.bar(temp, x=\"Count\", y=\"Common_words\", title='Common Trigrams All Reviews', orientation='h', \n",
    "             width=700, height=700,color='Common_words')\n",
    "fig.show()"
   ]
  },
  {
   "cell_type": "code",
   "execution_count": null,
   "metadata": {},
   "outputs": [],
   "source": [
    "most_common_tri_pos = get_top_text_ngrams(df.review[df.sentiment=='positive'],20,3)\n",
    "most_common_tri_pos = dict(most_common_tri_pos)\n",
    "temp = pd.DataFrame(columns = [\"Common_words\" , 'Count'])\n",
    "temp[\"Common_words\"] = list(most_common_tri_pos.keys())\n",
    "temp[\"Count\"] = list(most_common_tri_pos.values())\n",
    "fig = px.bar(temp, x=\"Count\", y=\"Common_words\", title='Common Trigrams Positive Reviews', orientation='h', \n",
    "             width=700, height=700,color='Common_words')\n",
    "fig.show()"
   ]
  },
  {
   "cell_type": "code",
   "execution_count": null,
   "metadata": {},
   "outputs": [],
   "source": [
    "most_common_tri_neg = get_top_text_ngrams(df.review[df.sentiment=='negative'],20,3)\n",
    "most_common_tri_neg = dict(most_common_tri_neg)\n",
    "temp = pd.DataFrame(columns = [\"Common_words\" , 'Count'])\n",
    "temp[\"Common_words\"] = list(most_common_tri_neg.keys())\n",
    "temp[\"Count\"] = list(most_common_tri_neg.values())\n",
    "fig = px.bar(temp, x=\"Count\", y=\"Common_words\", title='Common Trigrams in Negative Reviews', orientation='h', \n",
    "             width=700, height=700,color='Common_words')\n",
    "fig.show()"
   ]
  },
  {
   "cell_type": "code",
   "execution_count": null,
   "metadata": {},
   "outputs": [],
   "source": [
    "# Encode target column\n",
    "df.sentiment.replace(\"positive\" , 1 , inplace = True)\n",
    "df.sentiment.replace(\"negative\" , 0 , inplace = True)"
   ]
  },
  {
   "cell_type": "code",
   "execution_count": null,
   "metadata": {},
   "outputs": [],
   "source": [
    "X_train, X_test, y_train, y_test = train_test_split(df[['review']], df.sentiment, random_state = 42)"
   ]
  },
  {
   "cell_type": "code",
   "execution_count": null,
   "metadata": {},
   "outputs": [],
   "source": [
    "count = CountVectorizer()\n",
    "tfidf = TfidfVectorizer()"
   ]
  },
  {
   "cell_type": "code",
   "execution_count": 42,
   "metadata": {},
   "outputs": [],
   "source": [
    "from sklearn.pipeline import make_pipeline\n",
    "\n",
    "models = {'lr_count': make_pipeline(count, LogisticRegression(max_iter=1000, random_state=42)),\n",
    "          'dt_count': make_pipeline(count, DecisionTreeClassifier(random_state=42)),\n",
    "          'rf_count': make_pipeline(count, RandomForestClassifier(random_state=42)),\n",
    "          'lr_tfidf': make_pipeline(tfidf, LogisticRegression(max_iter=1000, random_state=42)),\n",
    "          'dt_tfidf': make_pipeline(tfidf, DecisionTreeClassifier(random_state=42)),\n",
    "          'rf_tfidf': make_pipeline(tfidf, RandomForestClassifier(random_state=42))}"
   ]
  },
  {
   "cell_type": "code",
   "execution_count": 43,
   "metadata": {},
   "outputs": [
    {
     "data": {
      "text/plain": [
       "{'lr_count': 0.8756128986644571,\n",
       " 'dt_count': 0.7171327201737887,\n",
       " 'rf_count': 0.8513636098212689,\n",
       " 'lr_tfidf': 0.8899069735668492,\n",
       " 'dt_tfidf': 0.7103410288997866,\n",
       " 'rf_tfidf': 0.8462421184225345}"
      ]
     },
     "execution_count": 43,
     "metadata": {},
     "output_type": "execute_result"
    }
   ],
   "source": [
    "from sklearn.model_selection import cross_val_score\n",
    "\n",
    "baseline_scores = {}\n",
    "\n",
    "for model in models:\n",
    "    score = cross_val_score(models[model], X_train.iloc[:,0], y_train, scoring='f1')\n",
    "    baseline_scores[model] = score.mean()\n",
    "    \n",
    "baseline_scores"
   ]
  },
  {
   "cell_type": "code",
   "execution_count": 44,
   "metadata": {},
   "outputs": [],
   "source": [
    "lr_pipeline = models['lr_tfidf']"
   ]
  },
  {
   "cell_type": "code",
   "execution_count": 45,
   "metadata": {},
   "outputs": [
    {
     "data": {
      "text/plain": [
       "Pipeline(steps=[('tfidfvectorizer', TfidfVectorizer()),\n",
       "                ('logisticregression',\n",
       "                 LogisticRegression(max_iter=1000, random_state=42))])"
      ]
     },
     "execution_count": 45,
     "metadata": {},
     "output_type": "execute_result"
    }
   ],
   "source": [
    "lr_pipeline.fit(X_train.iloc[:,0], y_train)"
   ]
  },
  {
   "cell_type": "code",
   "execution_count": 46,
   "metadata": {},
   "outputs": [],
   "source": [
    "def evaluate(estimator, X_train, X_test, y_train, y_test, roc_auc='proba'):\n",
    "    '''\n",
    "    Evaluation function to show a few scores for both the train and test set\n",
    "    Also shows a confusion matrix for the test set\n",
    "\n",
    "    roc_auc allows you to set how to calculate the roc_auc score: \n",
    "    'dec' for decision_function or 'proba' for predict_proba \n",
    "    If roc_auc == 'skip', then it ignores calculating the roc_auc_score\n",
    "\n",
    "    Function takes in:\n",
    "    'estimator' a fit sklearn model object\n",
    "    'X_train' dataframe\n",
    "    'X_test' dataframe\n",
    "    'y_train' series\n",
    "    'y_test' series\n",
    "    'roc_auc' string that defines ...\n",
    "    '''\n",
    "    # grab predictions\n",
    "    train_preds = estimator.predict(X_train)\n",
    "    test_preds = estimator.predict(X_test)\n",
    "\n",
    "    # output needed for roc_auc_score\n",
    "    if roc_auc == 'skip':  # skips calculating the roc_auc_score\n",
    "        train_out = False\n",
    "        test_out = False\n",
    "    elif roc_auc == 'dec':  # not all classifiers have decision_function\n",
    "        train_out = estimator.decision_function(X_train)\n",
    "        test_out = estimator.decision_function(X_test)\n",
    "    elif roc_auc == 'proba':\n",
    "        train_out = estimator.predict_proba(\n",
    "            X_train)[:, 1]  # proba for the 1 class\n",
    "        test_out = estimator.predict_proba(X_test)[:, 1]\n",
    "    else:\n",
    "        raise Exception(\n",
    "            \"The value for roc_auc should be 'skip', 'dec' or 'proba'.\")\n",
    "\n",
    "    # print scores\n",
    "    print(\"Train Scores\")\n",
    "    print(\"------------\")\n",
    "    print(f\"Accuracy: {accuracy_score(y_train, train_preds)}\")\n",
    "    print(f\"Precision: {precision_score(y_train, train_preds)}\")\n",
    "    print(f\"Recall: {recall_score(y_train, train_preds)}\")\n",
    "    print(f\"F1 Score: {f1_score(y_train, train_preds)}\")\n",
    "    if type(train_out) == np.ndarray:  # checking for roc_auc\n",
    "        print(f\"ROC-AUC: {roc_auc_score(y_train, train_out)}\")\n",
    "    print(\"----\" * 5)\n",
    "    print(\"Test Scores\")\n",
    "    print(\"-----------\")\n",
    "    print(f\"Accuracy: {accuracy_score(y_test, test_preds)}\")\n",
    "    print(f\"Precision: {precision_score(y_test, test_preds)}\")\n",
    "    print(f\"Recall: {recall_score(y_test, test_preds)}\")\n",
    "    print(f\"F1 Score: {f1_score(y_test, test_preds)}\")\n",
    "    if type(test_out) == np.ndarray:\n",
    "        print(f\"ROC-AUC: {roc_auc_score(y_test, test_out)}\")\n",
    "\n",
    "    # plot test confusion matrix\n",
    "    plot_confusion_matrix(estimator, X_test, y_test, values_format=',.5g')\n",
    "    plt.grid(False)\n",
    "    plt.show()"
   ]
  },
  {
   "cell_type": "code",
   "execution_count": 47,
   "metadata": {},
   "outputs": [
    {
     "name": "stdout",
     "output_type": "stream",
     "text": [
      "Train Scores\n",
      "------------\n",
      "Accuracy: 0.9281066666666666\n",
      "Precision: 0.9213346708199145\n",
      "Recall: 0.9353593825373855\n",
      "F1 Score: 0.9282940581945849\n",
      "ROC-AUC: 0.978660586482951\n",
      "--------------------\n",
      "Test Scores\n",
      "-----------\n",
      "Accuracy: 0.89248\n",
      "Precision: 0.8861424378186312\n",
      "Recall: 0.904303957118083\n",
      "F1 Score: 0.8951310861423221\n",
      "ROC-AUC: 0.9595893116916947\n"
     ]
    },
    {
     "data": {
      "image/png": "[encoded data removed]",
      "text/plain": [
       "<Figure size 432x288 with 2 Axes>"
      ]
     },
     "metadata": {
      "needs_background": "light"
     },
     "output_type": "display_data"
    }
   ],
   "source": [
    "evaluate(lr_pipeline, X_train.iloc[:,0], X_test.iloc[:,0], y_train, y_test, roc_auc='proba')"
   ]
  },
  {
   "cell_type": "code",
   "execution_count": 48,
   "metadata": {},
   "outputs": [
    {
     "data": {
      "text/plain": [
       "TfidfVectorizer()"
      ]
     },
     "execution_count": 48,
     "metadata": {},
     "output_type": "execute_result"
    }
   ],
   "source": [
    "lr_pipeline.steps[0][-1]"
   ]
  },
  {
   "cell_type": "code",
   "execution_count": 49,
   "metadata": {},
   "outputs": [],
   "source": [
    "# the fit tfidf vectorizer\n",
    "transformer = lr_pipeline.steps[0][-1]\n",
    "# the fit logistic regression model\n",
    "lr_model = lr_pipeline.steps[-1][-1]"
   ]
  },
  {
   "cell_type": "code",
   "execution_count": 50,
   "metadata": {},
   "outputs": [],
   "source": [
    "X_inspect = transformer.transform(X_test.iloc[:,0]).toarray()"
   ]
  },
  {
   "cell_type": "code",
   "execution_count": null,
   "metadata": {},
   "outputs": [],
   "source": [
    "importance = permutation_importance(lr_model, X_inspect, y_test, random_state=42, scoring='f1')"
   ]
  },
  {
   "cell_type": "code",
   "execution_count": null,
   "metadata": {},
   "outputs": [],
   "source": [
    "# Zip the names of the features \n",
    "# with the features permutation importance\n",
    "importance_weights = list(zip(transformer.get_feature_names(), importance['importances_mean']))\n",
    "\n",
    "# Sort the weights in descending order\n",
    "sorted(importance_weights, key=lambda x: x[1], reverse=True)[:100]"
   ]
  },
  {
   "cell_type": "code",
   "execution_count": null,
   "metadata": {},
   "outputs": [],
   "source": []
  }
 ],
 "metadata": {
  "kernelspec": {
   "display_name": "Python 3",
   "language": "python",
   "name": "python3"
  },
  "language_info": {
   "codemirror_mode": {
    "name": "ipython",
    "version": 3
   },
   "file_extension": ".py",
   "mimetype": "text/x-python",
   "name": "python",
   "nbconvert_exporter": "python",
   "pygments_lexer": "ipython3",
   "version": "3.8.5"
  }
 },
 "nbformat": 4,
 "nbformat_minor": 4
}
